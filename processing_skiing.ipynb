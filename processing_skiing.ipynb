{
  "nbformat": 4,
  "nbformat_minor": 0,
  "metadata": {
    "colab": {
      "provenance": [],
      "authorship_tag": "ABX9TyP81/w0tNcE0n7xkECHKDyI",
      "include_colab_link": true
    },
    "kernelspec": {
      "name": "ir",
      "display_name": "R"
    },
    "language_info": {
      "name": "R"
    }
  },
  "cells": [
    {
      "cell_type": "markdown",
      "metadata": {
        "id": "view-in-github",
        "colab_type": "text"
      },
      "source": [
        "<a href=\"https://colab.research.google.com/github/tasha-koehl/my_site/blob/main/processing_skiing.ipynb\" target=\"_parent\"><img src=\"https://colab.research.google.com/assets/colab-badge.svg\" alt=\"Open In Colab\"/></a>"
      ]
    },
    {
      "cell_type": "code",
      "execution_count": 1,
      "metadata": {
        "colab": {
          "base_uri": "https://localhost:8080/"
        },
        "id": "6JqXoO0ho5z6",
        "outputId": "5d03ee42-ac20-442c-fc68-0c0ce79ddea1"
      },
      "outputs": [
        {
          "output_type": "stream",
          "name": "stderr",
          "text": [
            "── \u001b[1mAttaching core tidyverse packages\u001b[22m ──────────────────────── tidyverse 2.0.0 ──\n",
            "\u001b[32m✔\u001b[39m \u001b[34mdplyr    \u001b[39m 1.1.4     \u001b[32m✔\u001b[39m \u001b[34mreadr    \u001b[39m 2.1.5\n",
            "\u001b[32m✔\u001b[39m \u001b[34mforcats  \u001b[39m 1.0.0     \u001b[32m✔\u001b[39m \u001b[34mstringr  \u001b[39m 1.5.1\n",
            "\u001b[32m✔\u001b[39m \u001b[34mggplot2  \u001b[39m 3.5.1     \u001b[32m✔\u001b[39m \u001b[34mtibble   \u001b[39m 3.2.1\n",
            "\u001b[32m✔\u001b[39m \u001b[34mlubridate\u001b[39m 1.9.3     \u001b[32m✔\u001b[39m \u001b[34mtidyr    \u001b[39m 1.3.1\n",
            "\u001b[32m✔\u001b[39m \u001b[34mpurrr    \u001b[39m 1.0.2     \n",
            "── \u001b[1mConflicts\u001b[22m ────────────────────────────────────────── tidyverse_conflicts() ──\n",
            "\u001b[31m✖\u001b[39m \u001b[34mdplyr\u001b[39m::\u001b[32mfilter()\u001b[39m masks \u001b[34mstats\u001b[39m::filter()\n",
            "\u001b[31m✖\u001b[39m \u001b[34mdplyr\u001b[39m::\u001b[32mlag()\u001b[39m    masks \u001b[34mstats\u001b[39m::lag()\n",
            "\u001b[36mℹ\u001b[39m Use the conflicted package (\u001b[3m\u001b[34m<http://conflicted.r-lib.org/>\u001b[39m\u001b[23m) to force all conflicts to become errors\n"
          ]
        }
      ],
      "source": [
        "library(tidyverse)"
      ]
    },
    {
      "cell_type": "code",
      "source": [
        "skiing <- read.csv('https://github.com/tasha-koehl/my_site/raw/main/Data/Ski_Areas_NorthAmerica.csv')\n",
        "\n",
        "skiing %>% head"
      ],
      "metadata": {
        "colab": {
          "base_uri": "https://localhost:8080/",
          "height": 324
        },
        "id": "MJiS2s-qpL5E",
        "outputId": "05aab7fd-5d51-4258-b55d-e0a1b5a2b8cd"
      },
      "execution_count": 4,
      "outputs": [
        {
          "output_type": "display_data",
          "data": {
            "text/html": [
              "<table class=\"dataframe\">\n",
              "<caption>A data.frame: 6 × 5</caption>\n",
              "<thead>\n",
              "\t<tr><th></th><th scope=col>X1</th><th scope=col>X.114.215597</th><th scope=col>X51.08296</th><th scope=col>Canada.Olympic.Park.Calgary.AB...Snow.Conditions..Call...403..247.5452</th><th scope=col>X88.Canada.Olympic.Road.SW..Calgary.AB</th></tr>\n",
              "\t<tr><th></th><th scope=col>&lt;int&gt;</th><th scope=col>&lt;dbl&gt;</th><th scope=col>&lt;dbl&gt;</th><th scope=col>&lt;chr&gt;</th><th scope=col>&lt;chr&gt;</th></tr>\n",
              "</thead>\n",
              "<tbody>\n",
              "\t<tr><th scope=row>1</th><td>2</td><td>-113.6822</td><td>52.30443</td><td>Canyon Ski Area-Red Deer,AB - Snow Conditions: Call  (403) 346-7003             </td><td>Site 8 Box 26 RR 2 Lcd 1, Red Deer,AB         </td></tr>\n",
              "\t<tr><th scope=row>2</th><td>3</td><td>-114.4138</td><td>49.31866</td><td>Castle Mountain-Pincher Creek,AB - Snow Conditions: Call  (403) 543-4500        </td><td>Box 610 Pincher Creek,  Banff National Park,AB</td></tr>\n",
              "\t<tr><th scope=row>3</th><td>4</td><td>-113.4758</td><td>53.53452</td><td>Drumheller Valley Ski Club-Drumheller,AB - Snow Conditions: Call  (403) 823-2277</td><td>1695 6th Ave SW, Drumheller,AB                </td></tr>\n",
              "\t<tr><th scope=row>4</th><td>5</td><td>-113.4790</td><td>53.53365</td><td>Edmonton Ski Club-Edmonton,AB - Snow Conditions: Call  (780) 465-0852           </td><td>9613 96 Ave NW, Edmonton,AB                   </td></tr>\n",
              "\t<tr><th scope=row>5</th><td>6</td><td>-118.6044</td><td>55.99459</td><td>Fairview Ski Hill-Fairview,AB - Snow Conditions: Call  (780) 835-4725           </td><td>PO Box 618, Fairview,AB                       </td></tr>\n",
              "\t<tr><th scope=row>6</th><td>7</td><td>-115.1942</td><td>50.81811</td><td>Fortress Mountain-Fortress Mountain,AB - Snow Conditions: Call  (403) 591-7108  </td><td>1 Fortress Mountain Rd, Kananaskis,AB         </td></tr>\n",
              "</tbody>\n",
              "</table>\n"
            ],
            "text/markdown": "\nA data.frame: 6 × 5\n\n| <!--/--> | X1 &lt;int&gt; | X.114.215597 &lt;dbl&gt; | X51.08296 &lt;dbl&gt; | Canada.Olympic.Park.Calgary.AB...Snow.Conditions..Call...403..247.5452 &lt;chr&gt; | X88.Canada.Olympic.Road.SW..Calgary.AB &lt;chr&gt; |\n|---|---|---|---|---|---|\n| 1 | 2 | -113.6822 | 52.30443 | Canyon Ski Area-Red Deer,AB - Snow Conditions: Call  (403) 346-7003              | Site 8 Box 26 RR 2 Lcd 1, Red Deer,AB          |\n| 2 | 3 | -114.4138 | 49.31866 | Castle Mountain-Pincher Creek,AB - Snow Conditions: Call  (403) 543-4500         | Box 610 Pincher Creek,  Banff National Park,AB |\n| 3 | 4 | -113.4758 | 53.53452 | Drumheller Valley Ski Club-Drumheller,AB - Snow Conditions: Call  (403) 823-2277 | 1695 6th Ave SW, Drumheller,AB                 |\n| 4 | 5 | -113.4790 | 53.53365 | Edmonton Ski Club-Edmonton,AB - Snow Conditions: Call  (780) 465-0852            | 9613 96 Ave NW, Edmonton,AB                    |\n| 5 | 6 | -118.6044 | 55.99459 | Fairview Ski Hill-Fairview,AB - Snow Conditions: Call  (780) 835-4725            | PO Box 618, Fairview,AB                        |\n| 6 | 7 | -115.1942 | 50.81811 | Fortress Mountain-Fortress Mountain,AB - Snow Conditions: Call  (403) 591-7108   | 1 Fortress Mountain Rd, Kananaskis,AB          |\n\n",
            "text/latex": "A data.frame: 6 × 5\n\\begin{tabular}{r|lllll}\n  & X1 & X.114.215597 & X51.08296 & Canada.Olympic.Park.Calgary.AB...Snow.Conditions..Call...403..247.5452 & X88.Canada.Olympic.Road.SW..Calgary.AB\\\\\n  & <int> & <dbl> & <dbl> & <chr> & <chr>\\\\\n\\hline\n\t1 & 2 & -113.6822 & 52.30443 & Canyon Ski Area-Red Deer,AB - Snow Conditions: Call  (403) 346-7003              & Site 8 Box 26 RR 2 Lcd 1, Red Deer,AB         \\\\\n\t2 & 3 & -114.4138 & 49.31866 & Castle Mountain-Pincher Creek,AB - Snow Conditions: Call  (403) 543-4500         & Box 610 Pincher Creek,  Banff National Park,AB\\\\\n\t3 & 4 & -113.4758 & 53.53452 & Drumheller Valley Ski Club-Drumheller,AB - Snow Conditions: Call  (403) 823-2277 & 1695 6th Ave SW, Drumheller,AB                \\\\\n\t4 & 5 & -113.4790 & 53.53365 & Edmonton Ski Club-Edmonton,AB - Snow Conditions: Call  (780) 465-0852            & 9613 96 Ave NW, Edmonton,AB                   \\\\\n\t5 & 6 & -118.6044 & 55.99459 & Fairview Ski Hill-Fairview,AB - Snow Conditions: Call  (780) 835-4725            & PO Box 618, Fairview,AB                       \\\\\n\t6 & 7 & -115.1942 & 50.81811 & Fortress Mountain-Fortress Mountain,AB - Snow Conditions: Call  (403) 591-7108   & 1 Fortress Mountain Rd, Kananaskis,AB         \\\\\n\\end{tabular}\n",
            "text/plain": [
              "  X1 X.114.215597 X51.08296\n",
              "1 2  -113.6822    52.30443 \n",
              "2 3  -114.4138    49.31866 \n",
              "3 4  -113.4758    53.53452 \n",
              "4 5  -113.4790    53.53365 \n",
              "5 6  -118.6044    55.99459 \n",
              "6 7  -115.1942    50.81811 \n",
              "  Canada.Olympic.Park.Calgary.AB...Snow.Conditions..Call...403..247.5452          \n",
              "1 Canyon Ski Area-Red Deer,AB - Snow Conditions: Call  (403) 346-7003             \n",
              "2 Castle Mountain-Pincher Creek,AB - Snow Conditions: Call  (403) 543-4500        \n",
              "3 Drumheller Valley Ski Club-Drumheller,AB - Snow Conditions: Call  (403) 823-2277\n",
              "4 Edmonton Ski Club-Edmonton,AB - Snow Conditions: Call  (780) 465-0852           \n",
              "5 Fairview Ski Hill-Fairview,AB - Snow Conditions: Call  (780) 835-4725           \n",
              "6 Fortress Mountain-Fortress Mountain,AB - Snow Conditions: Call  (403) 591-7108  \n",
              "  X88.Canada.Olympic.Road.SW..Calgary.AB        \n",
              "1 Site 8 Box 26 RR 2 Lcd 1, Red Deer,AB         \n",
              "2 Box 610 Pincher Creek,  Banff National Park,AB\n",
              "3 1695 6th Ave SW, Drumheller,AB                \n",
              "4 9613 96 Ave NW, Edmonton,AB                   \n",
              "5 PO Box 618, Fairview,AB                       \n",
              "6 1 Fortress Mountain Rd, Kananaskis,AB         "
            ]
          },
          "metadata": {}
        }
      ]
    }
  ]
}